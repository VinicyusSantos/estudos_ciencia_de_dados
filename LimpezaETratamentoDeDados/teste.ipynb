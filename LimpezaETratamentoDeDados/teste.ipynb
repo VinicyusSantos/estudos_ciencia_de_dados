{
  "cells": [
    {
      "cell_type": "code",
      "execution_count": 1,
      "id": "f732f07e",
      "metadata": {
        "vscode": {
          "languageId": "plaintext"
        },
        "id": "f732f07e",
        "outputId": "18180541-2580-46c1-bce3-8604b915270d",
        "colab": {
          "base_uri": "https://localhost:8080/"
        }
      },
      "outputs": [
        {
          "output_type": "stream",
          "name": "stdout",
          "text": [
            "20\n"
          ]
        }
      ],
      "source": [
        "import pandas as pd\n",
        "\n",
        "x = 0\n",
        "\n",
        "for i in range(0,10):\n",
        "  x += 2\n",
        "\n",
        "print(x)"
      ]
    }
  ],
  "metadata": {
    "language_info": {
      "name": "python"
    },
    "colab": {
      "provenance": []
    },
    "kernelspec": {
      "name": "python3",
      "display_name": "Python 3"
    }
  },
  "nbformat": 4,
  "nbformat_minor": 5
}